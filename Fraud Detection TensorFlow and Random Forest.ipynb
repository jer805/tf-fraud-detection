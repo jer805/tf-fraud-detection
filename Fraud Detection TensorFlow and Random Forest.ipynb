{
 "cells": [
  {
   "cell_type": "markdown",
   "metadata": {},
   "source": [
    "These data are from the [IEEE-CIS Fraud Detection](https://www.kaggle.com/c/ieee-fraud-detection/) kaggle competition in which the goal is to predict fraudulent credit card transactions. The data include several hundred features including encompassing discrete and continuous variables such as product code for each transaction, days between previous transactions, and maching between cards and addresses."
   ]
  },
  {
   "cell_type": "code",
   "execution_count": 75,
   "metadata": {},
   "outputs": [],
   "source": [
    "import tensorflow as tf\n",
    "from sklearn.ensemble import RandomForestClassifier\n",
    "from sklearn.metrics import confusion_matrix\n",
    "from sklearn.tree import export_graphviz\n",
    "from sklearn.preprocessing import StandardScaler\n",
    "from imblearn.over_sampling import SMOTE\n",
    "import pydot\n",
    "from matplotlib import pyplot as plt\n",
    "import pandas as pd\n",
    "import numpy as np\n",
    "import os"
   ]
  },
  {
   "cell_type": "markdown",
   "metadata": {},
   "source": [
    "First, we'll load the dataframe and take a look its structure and class proprotions. It turns out that there are far more non-fraudulent than fraudulent transactions, indicating a strong class imbalance. The end result of this is that predicting each row to be non-fraudulent will result in 95% accuracy."
   ]
  },
  {
   "cell_type": "code",
   "execution_count": 83,
   "metadata": {},
   "outputs": [
    {
     "name": "stdout",
     "output_type": "stream",
     "text": [
      "Number of observations in dataframe: 10000\n",
      "Number of features: 420\n",
      "Number of non-fraudulent transactions in full data: 9521\n",
      "Number of fraudulent transactions: 479\n",
      "Proportion of fraudulent transactions: 0.05\n"
     ]
    }
   ],
   "source": [
    "train = pd.read_csv('data/tf_fraud_data.csv')\n",
    "\n",
    "frauds = train['isFraud'].value_counts()\n",
    "\n",
    "print('Number of observations in dataframe:', '%d' % train.shape[0])\n",
    "print('Number of features:', '%d' % train.shape[1])\n",
    "print('Number of non-fraudulent transactions in full data:', '%d' % (frauds[0]))\n",
    "print('Number of fraudulent transactions:', '%d' % (frauds[1]))\n",
    "print('Proportion of fraudulent transactions:', '{:.2f}'.format(frauds[1]/len(train)))"
   ]
  },
  {
   "cell_type": "markdown",
   "metadata": {},
   "source": [
    "Next, we'll construct a standardizing function. This function first replaces all NaNs with the column mean and then standardizes each value by subtracting the column mean and dividing by the standard deviation. Since the class labels are included in this dataframe, we'll also want to remove this column so we can just feed the whole dataframe directly into the training model."
   ]
  },
  {
   "cell_type": "code",
   "execution_count": 84,
   "metadata": {},
   "outputs": [],
   "source": [
    "def standardize(train):\n",
    "    y = train.pop('isFraud').values\n",
    "    x = train.values\n",
    "    \n",
    "    # Set nans to mean\n",
    "    isnan = np.isnan(x)\n",
    "    means = np.repeat([np.nanmean(x, 0)], x.shape[0], 0)\n",
    "    x = np.where(isnan, means, x)\n",
    "    \n",
    "    # Standardize the columns\n",
    "    scaler = StandardScaler()\n",
    "    x = scaler.fit_transform(x)\n",
    "    \n",
    "    return x, y\n",
    "\n",
    "x, y = standardize(train)"
   ]
  },
  {
   "cell_type": "markdown",
   "metadata": {},
   "source": [
    "Here is a simple function which splits the data into a training and test set based on a chosen ratio."
   ]
  },
  {
   "cell_type": "code",
   "execution_count": 85,
   "metadata": {},
   "outputs": [],
   "source": [
    "def split_training_data(x, y, ratio):\n",
    "        test_idx = int(x.shape[0] * ratio)\n",
    "        x_train = x[:test_idx]\n",
    "        y_train = y[:test_idx]\n",
    "        x_test = x[test_idx:]\n",
    "        y_test = y[test_idx:]\n",
    "        \n",
    "        return x_train, y_train, x_test, y_test\n",
    "\n",
    "x_train, y_train, x_test, y_test = split_training_data(x, y, 0.8)"
   ]
  },
  {
   "cell_type": "markdown",
   "metadata": {},
   "source": [
    "Let's outline the structure of the model. It will have three layers, including one hidden layer with 500 nodes (this was identified as optimal through cross validation), with a tanh/tanh/sigmoid activation function setup. We will evaluate the model on the basis of the count of correctly classified positives and negatives, as well as its precision and recall. Precision which is the percentage of predicted fraud cases that are correctly classified, while recall is the percentage of actual fraud cases that are correctly classified."
   ]
  },
  {
   "cell_type": "code",
   "execution_count": 86,
   "metadata": {},
   "outputs": [],
   "source": [
    "model = tf.keras.models.Sequential([\n",
    "        tf.keras.layers.Dense(train.shape[1], activation='tanh'),\n",
    "        tf.keras.layers.Dropout(0.3),\n",
    "        tf.keras.layers.Dense(500, activation='tanh'),\n",
    "        tf.keras.layers.Dropout(0.3),\n",
    "        tf.keras.layers.Dense(1, activation='sigmoid'),\n",
    "        tf.keras.layers.Dropout(0.3)\n",
    "        ])\n",
    "    \n",
    "model.compile(optimizer='adam', loss='mean_absolute_error',\n",
    "              metrics=[tf.keras.metrics.TrueNegatives(name='True_Negatives'),\n",
    "              tf.keras.metrics.FalseNegatives(name='False_Negatives'),\n",
    "              tf.keras.metrics.TruePositives(name='True_Positives'),\n",
    "              tf.keras.metrics.FalsePositives(name='False_Positives'),\n",
    "              tf.keras.metrics.Precision(name='Precision'),\n",
    "              tf.keras.metrics.Recall(name='Recall')])\n",
    "                       "
   ]
  },
  {
   "cell_type": "markdown",
   "metadata": {},
   "source": [
    "SMOTE (synthetic minority oversampling technique) is a method for resampling unbalanced datasets. Using the function fit_sample will produce a dataframe with an equal representation of both classes (roughly twice the size of the original). These additional fraud values are predicted based on a random distance between feature values and their nearest neighbors on fraud cases."
   ]
  },
  {
   "cell_type": "code",
   "execution_count": 87,
   "metadata": {},
   "outputs": [],
   "source": [
    "smote = SMOTE()\n",
    "x_resampled, y_resampled = smote.fit_sample(x_train, y_train)"
   ]
  },
  {
   "cell_type": "code",
   "execution_count": 88,
   "metadata": {},
   "outputs": [],
   "source": [
    "epochs=100\n",
    "history = model.fit(x_resampled, y_resampled, epochs=epochs, verbose=False)"
   ]
  },
  {
   "cell_type": "code",
   "execution_count": 89,
   "metadata": {},
   "outputs": [
    {
     "name": "stdout",
     "output_type": "stream",
     "text": [
      "2000/2000 [==============================] - 1s 252us/sample - loss: 0.1073 - True_Negatives: 1744.0000 - False_Negatives: 27.0000 - True_Positives: 50.0000 - False_Positives: 179.0000 - Precision: 0.2183 - Recall: 0.6494\n",
      "loss: 0.10726801255345345\n",
      "True_Negatives: 1744.0\n",
      "False_Negatives: 27.0\n",
      "True_Positives: 50.0\n",
      "False_Positives: 179.0\n",
      "Precision: 0.2183406\n",
      "Recall: 0.64935064\n"
     ]
    }
   ],
   "source": [
    "results = model.evaluate(x_test, y_test)\n",
    "for name, value in zip(model.metrics_names, results):\n",
    "  print(str(name) + ': ' + str(value))"
   ]
  },
  {
   "cell_type": "markdown",
   "metadata": {},
   "source": [
    "Let's visualize the loss function over each epoch:"
   ]
  },
  {
   "cell_type": "code",
   "execution_count": 90,
   "metadata": {},
   "outputs": [
    {
     "data": {
      "image/png": "[encoded data removed]",
      "text/plain": [
       "<Figure size 432x288 with 1 Axes>"
      ]
     },
     "metadata": {
      "needs_background": "light"
     },
     "output_type": "display_data"
    }
   ],
   "source": [
    "epochs_list = range(1, epochs+1)\n",
    "plt.plot(epochs_list, history.history['loss'])\n",
    "plt.xlabel('Epoch')\n",
    "ylab = plt.ylabel('Loss')"
   ]
  },
  {
   "cell_type": "markdown",
   "metadata": {},
   "source": [
    "The loss displays a general downward trend, which is what we're after. Now let's take a look at the precision metric:"
   ]
  },
  {
   "cell_type": "code",
   "execution_count": 91,
   "metadata": {},
   "outputs": [
    {
     "data": {
      "image/png": "[encoded data removed]",
      "text/plain": [
       "<Figure size 432x288 with 1 Axes>"
      ]
     },
     "metadata": {
      "needs_background": "light"
     },
     "output_type": "display_data"
    }
   ],
   "source": [
    "plt.plot(epochs_list, history.history['Precision'])\n",
    "plt.xlabel('Epoch')\n",
    "ylab = plt.ylabel('Precision')"
   ]
  },
  {
   "cell_type": "markdown",
   "metadata": {},
   "source": [
    "Our precision is showing a consistent upward trend on the training set, which again is what we're after."
   ]
  },
  {
   "cell_type": "code",
   "execution_count": 92,
   "metadata": {},
   "outputs": [
    {
     "data": {
      "image/png": "[encoded data removed]",
      "text/plain": [
       "<Figure size 432x288 with 1 Axes>"
      ]
     },
     "metadata": {
      "needs_background": "light"
     },
     "output_type": "display_data"
    }
   ],
   "source": [
    "plt.plot(epochs_list, history.history['Recall'])\n",
    "plt.xlabel('Epoch')\n",
    "ylab = plt.ylabel('Recall')"
   ]
  },
  {
   "cell_type": "markdown",
   "metadata": {},
   "source": [
    "The recall does appear to be slowly increasing over the training epochs, but slightly less consistently than precision does. Recall is probably a better metric to base our model's success on than precision, since we are most interested in the classification of actual fraud cases. Fortunately, our recall is much better than the precision on the validation set."
   ]
  },
  {
   "cell_type": "markdown",
   "metadata": {},
   "source": [
    "We can contrast our neural network approach with random forest classification, which is somewhat simpler to implement. Since our data has already been cleaned, at this point all we have to do is build a classifier using tuning parameters. For the classification model in sklearn, the tuning parameter n_estimators refers to the number of decision trees in the \"forest\" which will vote on the class label of a given row. The max_features parameter refers to the maximum subset of features used at each node to perform a split, which is this case is to to the square root of the total number of features."
   ]
  },
  {
   "cell_type": "code",
   "execution_count": 63,
   "metadata": {},
   "outputs": [],
   "source": [
    "rf = RandomForestClassifier(n_estimators = 1000, max_features = \"auto\")\n",
    "rf.fit(x_train, y_train)\n",
    "predictions = rf.predict(x_test)"
   ]
  },
  {
   "cell_type": "markdown",
   "metadata": {},
   "source": [
    "We'll use a pre-built function from the sklearn library to calculate the correct classifications of positive and negative cases. Our precision seems to have made a slight improvement from the recall on the validation set using the neural network, but our recall has plunged by approximately one-third. The trade off is a model that is simpler to implement and tune, as well as quicker to run."
   ]
  },
  {
   "cell_type": "code",
   "execution_count": 64,
   "metadata": {},
   "outputs": [
    {
     "name": "stdout",
     "output_type": "stream",
     "text": [
      "Precision: 0.22\n",
      "Recall 0.45\n"
     ]
    }
   ],
   "source": [
    "tn, fp, fn, tp = confusion_matrix(y_test, predictions).ravel()\n",
    "precision = tp / (tp + fp)\n",
    "recall = tp / (tp + fn)\n",
    "print('Precision:', '{:.2f}'.format(precision))\n",
    "print('Recall', '{:.2f}'.format(recall))"
   ]
  },
  {
   "cell_type": "markdown",
   "metadata": {},
   "source": [
    "To get a better intuition on how this algorithm works, we can take a random decision tree from the forest and visualize it:"
   ]
  },
  {
   "cell_type": "code",
   "execution_count": 72,
   "metadata": {},
   "outputs": [],
   "source": [
    "features = list(pd.DataFrame(x_train).columns)\n",
    "\n",
    "single_tree = rf.estimators_[500]\n",
    "export_graphviz(single_tree, out_file = 'rf.dot', feature_names = features,\n",
    "                rounded = True)\n",
    "(graph, ) = pydot.graph_from_dot_file('rf.dot')\n",
    "\n",
    "graph.write_png('single_tree.png')"
   ]
  },
  {
   "cell_type": "markdown",
   "metadata": {},
   "source": [
    "![Decision tree map](data/single_tree.png)"
   ]
  }
 ],
 "metadata": {
  "kernelspec": {
   "display_name": "Python 3",
   "language": "python",
   "name": "python3"
  },
  "language_info": {
   "codemirror_mode": {
    "name": "ipython",
    "version": 3
   },
   "file_extension": ".py",
   "mimetype": "text/x-python",
   "name": "python",
   "nbconvert_exporter": "python",
   "pygments_lexer": "ipython3",
   "version": "3.7.4"
  }
 },
 "nbformat": 4,
 "nbformat_minor": 4
}
